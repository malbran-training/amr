{
 "cells": [
  {
   "cell_type": "markdown",
   "metadata": {},
   "source": [
    "# Antimicrobial resistance identification using ARIBA\n",
    "\n",
    "## Introduction\n",
    "\n",
    "Antimicrobial resistance (AMR) is one of the major threats to human and animal health worldwide. An important component of any strategy to tackle antimicrobial resistance (AMR) is having rapid and accurate methods for identifying markers of resistance. ARIBA is one such method or tool that can be used to detect and identify antibiotic resistance genes from whole genome sequencing data.\n",
    "\n",
    "ARIBA can be used to identify the prescence/abscence of a set of genes and their variants from sequence data of a sample. In particular, it was designed to detect and identify antibiotic resistance genes. This tutorial will walk you through the analysis of the *Neisseria gonorrhoeae* data set used in the ARIBA paper: \n",
    "\n",
    "> **ARIBA: rapid antimicrobial resistance genotyping directly from sequencing reads**  \n",
    "> Hunt M, Mather AE, Sánchez-Busó L, Page AJ, Parkhill J, Keane JA, Harris SR.  \n",
    "> _Microbial Genomics 2017. doi: 110.1099/mgen.0.000131_  \n",
    "> PMID: [29177089](https://www.ncbi.nlm.nih.gov/pmc/articles/PMC5695208/)  \n",
    "\n",
    "A copy of the paper can be found at \n",
    "\n",
    "`~/course_data/amr/ariba_paper.pdf`\n",
    "\n",
    "## Learning outcomes\n",
    "By the end of this tutorial you can expect to be able to:\n",
    "\n",
    "* Use ARIBA to detect the prescence/abscence of a set of genes \n",
    "* Download and prepare the standard AMR databases for use with ARIBA \n",
    "* Run ARIBA on several samples to identify antibiotic resistance \n",
    "* Prepare and use your own database for use with ARIBA \n",
    "* Summarise ARIBA results for several samples \n",
    "* Query the AMR results produced by ARIBA \n",
    "* Use Phandango to visualise ARIBA results \n",
    "\n",
    "## Tutorial sections\n",
    "This tutorial comprises the following sections:\n",
    "\n",
    "1. [Detect prescence/abscence of a set of genes with ARIBA](basic_ariba.ipynb) \n",
    "2. [Use a standard AMR database with ARIBA](standard_ariba.ipynb)\n",
    "3. [Prepare a custom reference database for ARIBA](make_custom_db.ipynb)\n",
    "4. [Run ARIBA using a custom reference database](run_ariba.ipynb)\n",
    "5. [View summarized results using Phandango](phandango.ipynb)\n",
    "6. [Investigate MIC data in relation to variants in the samples](micplot.ipynb)\n",
    "\n",
    "## Authors and License\n",
    "This tutorial was created by [Jacqui Keane](https://github.com/jacquikeane) and [Martin Hunt](https://github.com/martinghunt).\n",
    "\n",
    "The content is licensed under a [Creative Commons Attribution 4.0 International License (CC-By 4.0)](https://creativecommons.org/licenses/by/4.0/)."
   ]
  },
  {
   "cell_type": "markdown",
   "metadata": {},
   "source": [
    "### Running commands in this tutorial\n",
    "\n",
    "You can follow this tutorial by typing all the commands you see in a terminal window on your computer. This is similar to the \"Command Prompt\" window on MS Windows systems, which allows the user to type DOS commands to manage files.\n",
    "\n",
    "To get started, open a terminal window and type the command below followed by the `Enter` key:"
   ]
  },
  {
   "cell_type": "code",
   "execution_count": null,
   "metadata": {
    "collapsed": true
   },
   "outputs": [],
   "source": [
    "cd ~/course_data/amr/data"
   ]
  },
  {
   "cell_type": "markdown",
   "metadata": {},
   "source": [
    "Now you can follow the instructions in the tutorial from here.\n",
    "\n",
    "## Prerequisites\n",
    "\n",
    "This tutorial assumes that you have the `ARIBA` software application installed on your computer. It has already been installed on the computer you are using for this training course. To activate the ARIBA conda environment and check that the software is installed correctly, run the following command:"
   ]
  },
  {
   "cell_type": "code",
   "execution_count": null,
   "metadata": {
    "collapsed": true
   },
   "outputs": [],
   "source": [
    "conda activate ariba-2.14.6\n",
    "ariba --help"
   ]
  },
  {
   "cell_type": "markdown",
   "metadata": {},
   "source": [
    "This should return the following help message:\n",
    "\n",
    "    usage: ariba <command> <options>\n",
    "\n",
    "    ARIBA: Antibiotic Resistance Identification By Assembly\n",
    "\n",
    "    optional arguments:\n",
    "      -h, --help      show this help message and exit\n",
    "\n",
    "    Available commands:\n",
    "\n",
    "        aln2meta      Converts multi-aln fasta and SNPs to metadata\n",
    "        expandflag    Expands flag column of report file\n",
    "        flag          Translate the meaning of a flag\n",
    "        getref        Download reference data\n",
    "        micplot       Make violin/dot plots using MIC data\n",
    "        prepareref    Prepare reference data for input to \"run\"\n",
    "        pubmlstget    Download species from PubMLST and make db\n",
    "        pubmlstspecies\n",
    "                      Get list of available species from PubMLST\n",
    "        refquery      Get cluster or sequence info from prepareref output\n",
    "        run           Run the local assembly pipeline\n",
    "        summary       Summarise multiple reports made by \"run\"\n",
    "        test          Run small built-in test dataset\n",
    "        version       Get versions and exit\n",
    "\n",
    "To get started with the tutorial, head to the first section: [Detect prescence/abscence of genes with ARIBA](basic_ariba.ipynb)"
   ]
  }
 ],
 "metadata": {
  "kernelspec": {
   "display_name": "Bash",
   "language": "bash",
   "name": "bash"
  },
  "language_info": {
   "codemirror_mode": "shell",
   "file_extension": ".sh",
   "mimetype": "text/x-sh",
   "name": "bash"
  }
 },
 "nbformat": 4,
 "nbformat_minor": 2
}
