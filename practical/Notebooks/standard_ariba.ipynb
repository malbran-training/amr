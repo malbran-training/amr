{
 "cells": [
  {
   "cell_type": "markdown",
   "metadata": {},
   "source": [
    "# Use a standard AMR database with ARIBA\n",
    "This sections shows you how to run ARIBA on several samples to determine the presence of AMR genes using standard public AMR databases."
   ]
  },
  {
   "cell_type": "markdown",
   "metadata": {},
   "source": [
    "Make a new directory `standard` and move into that directory:"
   ]
  },
  {
   "cell_type": "code",
   "execution_count": null,
   "metadata": {},
   "outputs": [],
   "source": [
    "cd ..\n",
    "mkdir standard\n",
    "cd standard"
   ]
  },
  {
   "cell_type": "markdown",
   "metadata": {},
   "source": [
    "## Reference database\n",
    "\n",
    "We are going to download and prepare a reference database for use with ARIBA. You can use any one of the [standard reference databases that ARIBA supports](https://github.com/sanger-pathogens/ariba/wiki/Task:-getref)\n",
    "\n",
    "* ARG-ANNOT. PMID: 24145532\n",
    "* CARD. PMID: 23650175\n",
    "* MEGARes PMID: 27899569\n",
    "* NCBI BioProject: PRJNA313047\n",
    "* plasmidfinder PMID: 24777092\n",
    "* resfinder. PMID: 22782487\n",
    "* VFDB. PMID: 26578559\n",
    "* SRST2's version of ARG-ANNOT. PMID: 25422674.\n",
    "* VirulenceFinder PMID: 24574290.\n",
    "\n",
    "Let's use the CARD database. The CARD (Comprehensive Antibiotic Resistance Database) is a biological database that collects and organizes reference information on antimicrobial resistance genes, proteins and phenotypes. Type the following commands to make an ARIBA database directory called `ariba_card_db`:"
   ]
  },
  {
   "cell_type": "code",
   "execution_count": null,
   "metadata": {},
   "outputs": [],
   "source": [
    "ariba getref card out.card\n",
    "ariba prepareref -f out.card.fa -m out.card.tsv ariba_card_db"
   ]
  },
  {
   "cell_type": "markdown",
   "metadata": {},
   "source": [
    "## Run ARIBA on one sample\n",
    "\n",
    "To run ARIBA on one of the *Neisseria gonorrhoeae* samples using the CARD database, you need to supply the database directory we prepared earlier (which we have called `ariba_card_db`) and two sequencing reads files `fastq/ERR1067813_1.fastq.gz`, `fastq/ERR1067813_2.fastq.gz` along with the name of the output directory `ERR1067813`.\n",
    "\n",
    "The command to run ARIBA is:"
   ]
  },
  {
   "cell_type": "code",
   "execution_count": null,
   "metadata": {},
   "outputs": [],
   "source": [
    "ariba run ariba_card_db ../fastq/ERR1067813_1.fastq.gz \\\n",
    "../fastq/ERR1067813_2.fastq.gz ERR1067813"
   ]
  },
  {
   "cell_type": "markdown",
   "metadata": {},
   "source": [
    "This may take a few minutes to run. When complete, check what files and directories were created by ARIBA:"
   ]
  },
  {
   "cell_type": "code",
   "execution_count": null,
   "metadata": {},
   "outputs": [],
   "source": [
    "ls"
   ]
  },
  {
   "cell_type": "markdown",
   "metadata": {},
   "source": [
    "You should see a new directory called `ERR1067813` that will contain the ARIBA results."
   ]
  },
  {
   "cell_type": "markdown",
   "metadata": {},
   "source": [
    "## Run ARIBA on all samples\n",
    "\n",
    "But what if we want to run ARIBA on all 3 samples? This can be done with a \"for\" loop. We assume that the reads files are named like this:\n",
    "\n",
    "```\n",
    "ERR1067813_1.fastq.gz ERR1067813_2.fastq.gz\n",
    "ERR1067814_1.fastq.gz ERR1067814_2.fastq.gz\n",
    "ERR1067815_1.fastq.gz ERR1067815_2.fastq.gz\n",
    "```\n",
    "\n",
    "To run ARIBA on all samples type:"
   ]
  },
  {
   "cell_type": "code",
   "execution_count": null,
   "metadata": {},
   "outputs": [],
   "source": [
    "for s in `ls ../fastq/*1.f*.gz | sed 's/..\\/fastq\\///' | sed 's/\\_1.fastq.gz//'`\n",
    "do\n",
    "    ariba run ariba_card_db ../fastq/${s}_1.fastq.gz ../fastq/${s}_2.fastq.gz \\\n",
    "    ariba.${s}\n",
    "done"
   ]
  },
  {
   "cell_type": "markdown",
   "metadata": {},
   "source": [
    "The above command may take a few mintes to run. While you are waiting for it to finish read the explanation of the for loop below. \n",
    "\n",
    "The loop iterates through each item returned by the command `ls ../fastq/*1.f*.gz | sed 's/..\\/fastq\\///' | sed 's/\\_1.fastq.gz//'` and assigns the value of the item to the variable `$s`. \n",
    "\n",
    "The body of the loop runs the command `ariba run`. The options passed to `ariba run` are the fastq files for the sample specified as `../fastq/${s}_1.fastq.gz` and `../fastq/${s}_2.fastq.gz` and the output directory for the sample specified as `ariba.$s`. For example, for sample ERR1067813, $s is ERR1067813 and the fastq files are ../fastq/ERR1067813_1.fastq.gz and ../fastq/ERR1067813_2.fastq.gz and ariba.ERR1067813 is the output directory.\n",
    "\n",
    "Let's also look more closely at the command `ls ../fastq/*1.f*.gz | sed 's/..\\/fastq\\///' | sed 's/\\_1.fastq.gz//'`. "
   ]
  },
  {
   "cell_type": "markdown",
   "metadata": {},
   "source": [
    "First try:"
   ]
  },
  {
   "cell_type": "code",
   "execution_count": null,
   "metadata": {},
   "outputs": [],
   "source": [
    "ls ../fastq/*1.f*.gz "
   ]
  },
  {
   "cell_type": "markdown",
   "metadata": {},
   "source": [
    "This lists all the files in the `../fastq` directory that end with '1.fastq.gz' which should give us one fastq file for each sample. \n",
    "\n",
    "However all the files are prefixed with the path or location of the file (`../fastq/`). To remove this we will use the `sed` command to replace all occurences of `../fastq/` with an empty string ''. Note the additional backslashes (\\\\) used to escape the forward slashes (/) in the path.\n",
    "\n",
    "Try it:"
   ]
  },
  {
   "cell_type": "code",
   "execution_count": null,
   "metadata": {},
   "outputs": [],
   "source": [
    "ls ../fastq/*1.f*.gz | sed 's/..\\/fastq\\///'"
   ]
  },
  {
   "cell_type": "markdown",
   "metadata": {},
   "source": [
    "The above command now lists just the fastq files which include the _1.fastq.gz at the end. Our aim is to extract a sample name or unique identifier for each of our samples (so everything before the _1.fastq.gz). To acieve this we use an additional `sed` to replace the occurence of `_1.fastq.gz` with an empty string ``. \n",
    "\n",
    "Try it:"
   ]
  },
  {
   "cell_type": "code",
   "execution_count": null,
   "metadata": {},
   "outputs": [],
   "source": [
    "ls ../fastq/*1.fastq.gz | sed 's/..\\/fastq\\///' | sed 's/\\_1.fastq.gz//'"
   ]
  },
  {
   "cell_type": "markdown",
   "metadata": {},
   "source": [
    "__Note__: If you run ariba on your own data then you may need to edit the above command depending on how your own files are named."
   ]
  },
  {
   "cell_type": "markdown",
   "metadata": {},
   "source": [
    "## ARIBA output\n",
    "\n",
    "While you are waiting for ARIBA to run on all 3 samples, go to the [ARIBA wiki (https://github.com/sanger-pathogens/ariba/wiki/Task:-run](https://github.com/sanger-pathogens/ariba/wiki/Task:-run) and read about the ARIBA output and what each of the columns in the report.tsv output file mean."
   ]
  },
  {
   "cell_type": "markdown",
   "metadata": {},
   "source": [
    "## Summarising the results\n",
    "\n",
    "Now gather together the results"
   ]
  },
  {
   "cell_type": "code",
   "execution_count": null,
   "metadata": {},
   "outputs": [],
   "source": [
    "ariba summary all_results ariba.*/report.tsv"
   ]
  },
  {
   "cell_type": "markdown",
   "metadata": {},
   "source": [
    "Look at the files produced by ariba summary:"
   ]
  },
  {
   "cell_type": "code",
   "execution_count": null,
   "metadata": {},
   "outputs": [],
   "source": [
    "ls"
   ]
  },
  {
   "cell_type": "markdown",
   "metadata": {},
   "source": [
    "You should see 3 files:\n",
    "\n",
    "`all_results.csv`  `all_results.phandango.csv`  `all_results.phandango.tre`\n",
    "\n",
    "Now look at the file all_results.csv and answer the questions below."
   ]
  },
  {
   "cell_type": "markdown",
   "metadata": {},
   "source": [
    "## Exercises\n",
    "1. Which AMR genes are present in all 3 samples?\n",
    "2. Which AMR genes are absent in sample ERR1067813 but present in the other two samples?\n",
    "3. Which AMR genes are absent in sample ERR1067814 but present in the other two samples?\n",
    "4. Which AMR genes are absent in sample ERR1067815 but present in the other two samples?"
   ]
  },
  {
   "cell_type": "markdown",
   "metadata": {},
   "source": [
    "Now go to the next part of the tutorial where we [prepare a custom reference database for ARIBA](make_custom_db.ipynb)."
   ]
  }
 ],
 "metadata": {
  "kernelspec": {
   "display_name": "Bash",
   "language": "bash",
   "name": "bash"
  },
  "language_info": {
   "codemirror_mode": "shell",
   "file_extension": ".sh",
   "mimetype": "text/x-sh",
   "name": "bash"
  }
 },
 "nbformat": 4,
 "nbformat_minor": 2
}
