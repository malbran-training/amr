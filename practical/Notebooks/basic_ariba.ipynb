{
 "cells": [
  {
   "cell_type": "markdown",
   "metadata": {},
   "source": [
    "# Detect prescence/abscence of genes with ARIBA\n",
    "One of the most basic tasks ARIBA can be used for is to detect the presence or abscence of a set genes. Let us look at an example. But first, let's check that you're in the right place. Type the command below in the terminal window followed by the Enter key:"
   ]
  },
  {
   "cell_type": "code",
   "execution_count": null,
   "metadata": {},
   "outputs": [],
   "source": [
    "pwd"
   ]
  },
  {
   "cell_type": "markdown",
   "metadata": {},
   "source": [
    "It should display something like:\n",
    "\n",
    "`/home/manager/course_data/amr/data`"
   ]
  },
  {
   "cell_type": "markdown",
   "metadata": {},
   "source": [
    "Ok, back to the example! We have sequence data for 3 __Neisseria gonorrhoeae__ samples and want to determine if the genes `fitA` and `fbpA` are present or absent in these samples. Let us use ARIBA to determine this from the raw sequence data.\n",
    "\n",
    "First list the fastq files for the samples."
   ]
  },
  {
   "cell_type": "code",
   "execution_count": null,
   "metadata": {},
   "outputs": [],
   "source": [
    "ls fastq"
   ]
  },
  {
   "cell_type": "markdown",
   "metadata": {},
   "source": [
    "For the purpose of this exercise, we have created a fasta file containing the sequences of the genes `fitA` and `fbpA`, take a look:"
   ]
  },
  {
   "cell_type": "code",
   "execution_count": null,
   "metadata": {},
   "outputs": [],
   "source": [
    "cd basic\n",
    "ls\n",
    "cat genes.fasta"
   ]
  },
  {
   "cell_type": "markdown",
   "metadata": {},
   "source": [
    "Running ARIBA is generally a three stage process:\n",
    "* prepare a reference database \n",
    "* run ariba on each sample\n",
    "* summmarise the ariba results for all samples"
   ]
  },
  {
   "cell_type": "markdown",
   "metadata": {},
   "source": [
    "First prepare the reference database:"
   ]
  },
  {
   "cell_type": "code",
   "execution_count": null,
   "metadata": {},
   "outputs": [],
   "source": [
    "ariba prepareref -f genes.fasta --all_coding yes out"
   ]
  },
  {
   "cell_type": "markdown",
   "metadata": {},
   "source": [
    "Next, run ariba for all 3 samples"
   ]
  },
  {
   "cell_type": "code",
   "execution_count": null,
   "metadata": {},
   "outputs": [],
   "source": [
    "ariba run out ../fastq/ERR1067813_1.fastq.gz ../fastq/ERR1067813_2.fastq.gz \\\n",
    "ariba_results_ERR1067813"
   ]
  },
  {
   "cell_type": "code",
   "execution_count": null,
   "metadata": {},
   "outputs": [],
   "source": [
    "ariba run out ../fastq/ERR1067814_1.fastq.gz ../fastq/ERR1067814_2.fastq.gz \\\n",
    "ariba_results_ERR1067814"
   ]
  },
  {
   "cell_type": "code",
   "execution_count": null,
   "metadata": {},
   "outputs": [],
   "source": [
    "ariba run out ../fastq/ERR1067815_1.fastq.gz ../fastq/ERR1067815_2.fastq.gz \\\n",
    "ariba_results_ERR1067815"
   ]
  },
  {
   "cell_type": "markdown",
   "metadata": {},
   "source": [
    "Next, summarise the results (the `--no_tree` option tells ARIBA not to generate a tree):"
   ]
  },
  {
   "cell_type": "code",
   "execution_count": null,
   "metadata": {},
   "outputs": [],
   "source": [
    "ariba summary --no_tree all_samples ariba_results*/report.tsv"
   ]
  },
  {
   "cell_type": "markdown",
   "metadata": {},
   "source": [
    "Now inspect the results:"
   ]
  },
  {
   "cell_type": "code",
   "execution_count": null,
   "metadata": {},
   "outputs": [],
   "source": [
    "cat all_samples.csv"
   ]
  },
  {
   "cell_type": "markdown",
   "metadata": {},
   "source": [
    "Notice that the original gene names are not present in the summary file, instead we have the cluster names cluster, cluster_1 etc. This is because ARIBA gathers together genes that are similar into clusters.\n",
    "\n",
    "To determine which genes are in which cluster run:"
   ]
  },
  {
   "cell_type": "code",
   "execution_count": null,
   "metadata": {},
   "outputs": [],
   "source": [
    "ariba refquery out cluster cluster\n",
    "ariba refquery out cluster cluster_1"
   ]
  },
  {
   "cell_type": "markdown",
   "metadata": {},
   "source": [
    "## Exercises\n",
    "1. How many samples have the fitA gene?\n",
    "2. How many samples have the fbpA gene?"
   ]
  },
  {
   "cell_type": "markdown",
   "metadata": {},
   "source": [
    "Now go to the next part of the tutorial where we [use a standard database with ARIBA to determine AMR](standard_ariba.ipynb)."
   ]
  }
 ],
 "metadata": {
  "kernelspec": {
   "display_name": "Bash",
   "language": "bash",
   "name": "bash"
  },
  "language_info": {
   "codemirror_mode": "shell",
   "file_extension": ".sh",
   "mimetype": "text/x-sh",
   "name": "bash"
  }
 },
 "nbformat": 4,
 "nbformat_minor": 2
}
