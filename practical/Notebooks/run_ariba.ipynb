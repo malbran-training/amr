{
 "cells": [
  {
   "cell_type": "markdown",
   "metadata": {},
   "source": [
    "# Run ARIBA using a custom reference database\n",
    "\n",
    "This section illustrates how to run ARIBA on a large number of samples using a custom reference database. To save time, you will not actually run any of the commands in this section (each run of ARIBA takes a few minutes). \n",
    "\n",
    "## Reference database \n",
    "\n",
    "First you need a reference database. You will already have one if you followed the instructions in the previous part of this tutorial ([Prepare a custom reference data for ARIBA](make_custom_db.ipynb))."
   ]
  },
  {
   "cell_type": "markdown",
   "metadata": {},
   "source": [
    "## How to run on one sample\n",
    "\n",
    "ARIBA needs the database directory, which we have called `Ngo_ARIBAdb` in the [previous section of the tutorial](make_custom_db.ipynb), and two sequencing reads files `reads.1.fastq.gz`, `reads.2.fastq.gz`. The command to run ARIBA would look like (do not run this here!):\n",
    "\n",
    "```\n",
    "ariba run Ngo_ARIBAdb reads.1.fastq.gz reads.2.fastq.gz outdir\n",
    "```\n",
    "\n",
    "The above command will make a new directory called `outdir` that contains the results of matching the data for your sample (reads.1.fastq.gz and reads.2.fastq.gz) against the database Ngo_ARIBAdb."
   ]
  },
  {
   "cell_type": "markdown",
   "metadata": {},
   "source": [
    "## Run on all samples\n",
    "\n",
    "The *N. gonorrhoeae* dataset consists of 1517 samples, and we need to run ARIBA on each sample, which can be done with a \"for\" loop. Assuming that the reads files are named like this:\n",
    "\n",
    "```\n",
    "ERR1067813.1.fq.gz ERR1067813.2.fq.gz\n",
    "ERR1067814.1.fq.gz ERR1067814.2.fq.gz\n",
    "ERR1067815.1.fq.gz ERR1067815.2.fq.gz\n",
    "```\n",
    "\n",
    "Then we could run ARIBA on all samples like this (do not run this command here!):\n",
    "\n",
    "```\n",
    "for sample in `ls *.1.fq.gz | sed 's/\\.1.fq.gz//'`\n",
    "do\n",
    "    ariba run Ngo_ARIBAdb $sample.1.fq.gz $sample.2.fq.gz $sample.ariba\n",
    "done\n",
    "```\n",
    "\n",
    "The output directory of each sample is called `$sample.ariba`, for example ERR1067813.ariba is the output directory for sample ERR1067813.\n",
    "\n",
    "Note if you are analysing your own data you may need to edit the command depending on how your own fastq files are named."
   ]
  },
  {
   "cell_type": "markdown",
   "metadata": {},
   "source": [
    "## ARIBA output\n",
    "\n",
    "There is no need to run the commands in this section, to save time they have already been run and the results are found in the directory `ARIBA_reports`. Take a look:"
   ]
  },
  {
   "cell_type": "code",
   "execution_count": null,
   "metadata": {},
   "outputs": [],
   "source": [
    "ls ARIBA_reports"
   ]
  },
  {
   "cell_type": "markdown",
   "metadata": {},
   "source": [
    "Now go to the next part of the tutorial where we [use Phandango to view the results](phandango.ipynb)."
   ]
  }
 ],
 "metadata": {
  "kernelspec": {
   "display_name": "Bash",
   "language": "bash",
   "name": "bash"
  },
  "language_info": {
   "codemirror_mode": "shell",
   "file_extension": ".sh",
   "mimetype": "text/x-sh",
   "name": "bash"
  }
 },
 "nbformat": 4,
 "nbformat_minor": 2
}
